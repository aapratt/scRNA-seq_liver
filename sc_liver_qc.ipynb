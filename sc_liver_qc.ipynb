{
 "cells": [
  {
   "cell_type": "markdown",
   "id": "d25def3b",
   "metadata": {},
   "source": [
    "Create paths for input and output data:"
   ]
  },
  {
   "cell_type": "code",
   "execution_count": 2,
   "id": "e289c0b7",
   "metadata": {},
   "outputs": [],
   "source": [
    "import os\n",
    "\n",
    "path_liver = \"data/liver/raw\"\n",
    "if not os.path.exists(path_liver):\n",
    "    os.makedirs(path_liver, exist_ok=True)\n",
    "\n",
    "path_results = \"data/liver/results\"\n",
    "if not os.path.exists(path_results):\n",
    "    os.makedirs(path_results, exist_ok=True)"
   ]
  },
  {
   "cell_type": "markdown",
   "id": "ad20dc30",
   "metadata": {},
   "source": [
    "Copy raw data into appropriate subfolder of working directory and convert to the right name/format to be read by scanpy:"
   ]
  },
  {
   "cell_type": "code",
   "execution_count": 3,
   "id": "c6bb4538",
   "metadata": {},
   "outputs": [],
   "source": [
    "import shutil\n",
    "\n",
    "# download: https://www.kaggle.com/datasets/dschettler8845/cellxgene-10k?resource=download\n",
    "filename=\"raw_scRNAseq_10X_precision_toxicology_combined_annotated_sep21.h5ad\"\n",
    "path_download = \"Downloads/\"\n",
    "\n",
    "path_final = os.path.join(path_liver, filename)\n",
    "if not os.path.exists(path_final):\n",
    "    file = os.path.join(path_download, filename)\n",
    "    shutil.move(file, path_liver)"
   ]
  },
  {
   "cell_type": "markdown",
   "id": "72b13c6d",
   "metadata": {},
   "source": [
    "Import necessary modules and set basic settings:"
   ]
  },
  {
   "cell_type": "code",
   "execution_count": 4,
   "id": "eafd3f61",
   "metadata": {},
   "outputs": [],
   "source": [
    "import numpy as np\n",
    "import pandas as pd\n",
    "import scanpy as sc\n",
    "import warnings\n",
    "import gc\n",
    "\n",
    "warnings.simplefilter(action='ignore', category=Warning)\n",
    "sc.settings.verbosity = 3\n",
    "sc.settings.set_figure_params(dpi=80)"
   ]
  },
  {
   "cell_type": "markdown",
   "id": "cf37d75c",
   "metadata": {},
   "source": [
    "Read in the data from the .h5ad file:"
   ]
  },
  {
   "cell_type": "code",
   "execution_count": 5,
   "id": "45eb798e",
   "metadata": {},
   "outputs": [
    {
     "data": {
      "text/plain": [
       "AnnData object with n_obs × n_vars = 63527 × 19971\n",
       "    obs: 'Age', 'Treatment', 'batch', 'sample_id', 'sample_name', 'n_counts', 'log_counts', 'n_genes', 'mt_fraction', 'replicate', 'subtype', 'subtype2', 'shared_clusters', 'donor_louvain', 'shared_clusters_sanity_check'\n",
       "    var: 'gene_name'"
      ]
     },
     "execution_count": 5,
     "metadata": {},
     "output_type": "execute_result"
    }
   ],
   "source": [
    "adata = sc.read_h5ad(path_final)\n",
    "adata"
   ]
  },
  {
   "cell_type": "markdown",
   "id": "122b64c1",
   "metadata": {},
   "source": [
    "Remove irrelevant columns:"
   ]
  },
  {
   "cell_type": "code",
   "execution_count": 6,
   "id": "51ac93d7",
   "metadata": {},
   "outputs": [
    {
     "data": {
      "text/plain": [
       "AnnData object with n_obs × n_vars = 63527 × 19971\n",
       "    obs: 'Age', 'Treatment', 'batch', 'sample_id', 'sample_name', 'n_counts', 'log_counts', 'n_genes', 'mt_fraction', 'replicate', 'subtype', 'subtype2', 'shared_clusters', 'donor_louvain', 'shared_clusters_sanity_check'\n",
       "    var: 'gene_name'"
      ]
     },
     "execution_count": 6,
     "metadata": {},
     "output_type": "execute_result"
    }
   ],
   "source": [
    "for c in adata.obs.columns:\n",
    "    if len(adata.obs[c].unique()) == 1:\n",
    "        print(c)\n",
    "        adata.obs.drop(c, axis=1, inplace=True)\n",
    "adata"
   ]
  }
 ],
 "metadata": {
  "kernelspec": {
   "display_name": "scanpy_2025",
   "language": "python",
   "name": "python3"
  },
  "language_info": {
   "codemirror_mode": {
    "name": "ipython",
    "version": 3
   },
   "file_extension": ".py",
   "mimetype": "text/x-python",
   "name": "python",
   "nbconvert_exporter": "python",
   "pygments_lexer": "ipython3",
   "version": "3.10.17"
  }
 },
 "nbformat": 4,
 "nbformat_minor": 5
}
